{
 "cells": [
  {
   "cell_type": "markdown",
   "metadata": {},
   "source": [
    "# HW 2: Corporate Bond Pricing (due by 9.21 Fri)"
   ]
  },
  {
   "cell_type": "markdown",
   "metadata": {},
   "source": [
    "We are going to compute the price of a corporate bond (subject to default) with Monte-Carlo simulation. Assume that \n",
    "* the default time of a company follows the exponential distribution with intensity $\\lambda=$__`def_rate`__. \n",
    "* the riskfree interest rate is $r_f=$__`rf_rate`__ and the maturity of the bond is $T=$__`mat`__. \n",
    "* in the case of default, you can recover some portion ($R=$__`recovery_rate`__) of the face value.\n",
    "* the coupon is 0%, i.e., it is a zero-coupon bond.\n",
    "* the face value of the bond is 1.0\n",
    "* use compound rate for discounting; the price of the default-free bond is $e^{-r_f T}$\n",
    "\n",
    "The Problem 1 of the [2017 ASP Midterm Exam](../files/ASP2017_Midterm.pdf) will be helpful.\n",
    "\n",
    "### Instruction to upload your HW\n",
    "* Create a repository named __`PHBS_ASP_2018`__ (and clone it to your PC)\n",
    "* Copy this file to __`PHBS_ASP_2018/HW2/HW2.ipynb`__  (Please use the same name for repository and ipynb file)\n",
    "* Adding more code.\n",
    "* Run your your code to make sure that there's no error.\n",
    "* Upload (commit and sync) your file."
   ]
  },
  {
   "cell_type": "markdown",
   "metadata": {},
   "source": [
    "### 1. First, let's create a pricing function and check the std "
   ]
  },
  {
   "cell_type": "code",
   "execution_count": 20,
   "metadata": {},
   "outputs": [],
   "source": [
    "import numpy as np\n",
    "import time"
   ]
  },
  {
   "cell_type": "code",
   "execution_count": 21,
   "metadata": {},
   "outputs": [],
   "source": [
    "def_rate = 0.1\n",
    "rf_rate = 0.03\n",
    "recovery = 0.3\n",
    "mat = 10"
   ]
  },
  {
   "cell_type": "markdown",
   "metadata": {},
   "source": []
  },
  {
   "cell_type": "code",
   "execution_count": 22,
   "metadata": {},
   "outputs": [
    {
     "data": {
      "text/plain": [
       "(9.930430700363729, 10.0)"
      ]
     },
     "execution_count": 22,
     "metadata": {},
     "output_type": "execute_result"
    }
   ],
   "source": [
    "# First generate exponential random numbers\n",
    "# Although you can generate directly using fault_time = np.random.exponential(scale=), let's use uniform random numbers.\n",
    "n_sample = 10000\n",
    "U = np.random.uniform(size=n_sample)\n",
    "default_time = -(1/def_rate)*np.log(U)\n",
    "\n",
    "# You can check if the RNs are correct by comparing the means\n",
    "(default_time.mean(), 1/def_rate)"
   ]
  },
  {
   "cell_type": "code",
   "execution_count": 23,
   "metadata": {},
   "outputs": [
    {
     "name": "stdout",
     "output_type": "stream",
     "text": [
      "93.50322709471038\n",
      "mean: 0.4798988536902587 standard deviation: 0.07159165821066814\n"
     ]
    }
   ],
   "source": [
    "# Put your code here to price the corporate bond\n",
    "\n",
    "def corp_bond(mat=10, def_rate=0.1, rf_rate=0.03, recovery=0.3, n_sample=10000):\n",
    "    ### generation of a default time sequence\n",
    "    U = np.random.uniform(size=n_sample)\n",
    "    default_time = -(1/def_rate)*np.log(U/def_rate)\n",
    "    ### if default_time < mat, then the end_value is recovery;otherwise, 1\n",
    "    for i in default_time:\n",
    "      if i <= mat:\n",
    "        price = np.exp(-rf_rate*default_time)*recovery\n",
    "      else:\n",
    "        price = np.exp(-rf_rate*mat) \n",
    "\n",
    "    return price.mean()\n",
    "\n",
    "# Call your function\n",
    "corp_bond()\n",
    "\n",
    "# Find the mean and std by calling the function 100 times. \n",
    "simu_time = 100\n",
    "bond_price_set = []\n",
    "start = time.clock()\n",
    "\n",
    "for i in range(simu_time):\n",
    "    bond_price_set.append(corp_bond())\n",
    "\n",
    "end = time.clock()\n",
    "\n",
    "print(end-start)\n",
    "\n",
    "print('mean:',np.mean(bond_price_set),'standard deviation:',np.std(bond_price_set))\n"
   ]
  },
  {
   "cell_type": "markdown",
   "metadata": {},
   "source": [
    "### 2. Now, let's improve the function by reducing the MC variations.\n",
    "1. Use antithetic method: If `U` is uniform random variable, so is `1-U`\n",
    "2. Also shift the RNs to match the mean, `1/def_rate`"
   ]
  },
  {
   "cell_type": "code",
   "execution_count": 27,
   "metadata": {},
   "outputs": [
    {
     "data": {
      "text/plain": [
       "(10.0, 10.0)"
      ]
     },
     "execution_count": 27,
     "metadata": {},
     "output_type": "execute_result"
    }
   ],
   "source": [
    "# For example, antithetic method mean\n",
    "n_sample = 10000\n",
    "U = np.random.uniform(size=n_sample)\n",
    "default_time = -(1/def_rate)*np.log(np.concatenate((U,1-U),axis=0))\n",
    "\n",
    "# Mean-matching means\n",
    "default_time += 1/def_rate-default_time.mean()\n",
    "(default_time.mean(), 1/def_rate)"
   ]
  },
  {
   "cell_type": "code",
   "execution_count": 34,
   "metadata": {},
   "outputs": [
    {
     "name": "stdout",
     "output_type": "stream",
     "text": [
      "antithetic\n",
      "mean: 0.4404834571238473 standard deviation: 0.0015033169338638172\n",
      "match\n",
      "mean: 0.4402744014055209 standard deviation: 0.0015138255262073198\n",
      "both\n",
      "mean: 0.44042006923018034 standard deviation: 0.0015365601888465467\n"
     ]
    }
   ],
   "source": [
    "# No include the two new features: `antithetic` and `match`\n",
    "\n",
    "# No include the two new features: `antithetic` and `match`\n",
    "\n",
    "def corp_bond_cv(mat=10, def_rate=0.1, rf_rate=0.03, recovery=0.3, n_sample=10000, antithetic=True, match=True):\n",
    "    ### <--\n",
    "    if(antithetic):\n",
    "        m_sample = np.int(n_sample/2)\n",
    "        U = np.random.uniform(size=m_sample)\n",
    "        default_time = -(1/def_rate)*np.log(np.concatenate((U,1-U),axis=0))\n",
    "        exp_value = np.mean(np.where(default_time<mat, recovery*np.exp(-rf_rate*(default_time)), np.exp(-rf_rate*mat)))\n",
    "        \n",
    "    if(match):\n",
    "        U = np.random.uniform(size=n_sample)\n",
    "        default_time = -(1/def_rate)*np.log(U)\n",
    "        default_time += 1/def_rate-default_time.mean()\n",
    "        exp_value = np.mean(np.where(default_time<mat, recovery*np.exp(-rf_rate*(default_time)), np.exp(-rf_rate*mat)))\n",
    "        \n",
    "    if(antithetic and match):\n",
    "        m_sample = np.int(n_sample/2)\n",
    "        U = np.random.uniform(size=m_sample)\n",
    "        default_time = -(1/def_rate)*np.log(np.concatenate((U,1-U),axis=0))\n",
    "        default_time += 1/def_rate-default_time.mean()\n",
    "        exp_value = np.mean(np.where(default_time<mat, recovery*np.exp(-rf_rate*(default_time)), np.exp(-rf_rate*mat)))\n",
    "    return exp_value\n",
    "# Find the mean and std by calling the function 100 times for (i) antithetic (ii) match and (iii) both\n",
    "simu_time = 100\n",
    "antithetic_price_set = []\n",
    "match_price_set = []\n",
    "both_price_set = []\n",
    "for i in range(simu_time):\n",
    "    antithetic_price_set.append(corp_bond_cv(match=False))\n",
    "    match_price_set.append(corp_bond_cv(antithetic=False))\n",
    "    both_price_set.append(corp_bond_cv())\n",
    "\n",
    "print('antithetic')\n",
    "print('mean:',np.mean(antithetic_price_set),'standard deviation:',np.std(antithetic_price_set))\n",
    "print('match')\n",
    "print('mean:',np.mean(match_price_set),'standard deviation:',np.std(match_price_set))\n",
    "print('both')\n",
    "print('mean:',np.mean(both_price_set),'standard deviation:',np.std(both_price_set))\n",
    "\n"
   ]
  },
  {
   "cell_type": "markdown",
   "metadata": {
    "collapsed": true
   },
   "source": [
    "### 3. Finally, what is the analytic value of the corporate bond? How does it compare to your MC result above?"
   ]
  },
  {
   "cell_type": "code",
   "execution_count": 36,
   "metadata": {},
   "outputs": [
    {
     "name": "stdout",
     "output_type": "stream",
     "text": [
      "0.44040907156462505\n"
     ]
    }
   ],
   "source": [
    "### Put the analytic expression for the corporate bond price\n",
    "def_rate = 0.1\n",
    "rf_rate = 0.03\n",
    "recovery = 0.3\n",
    "mat = 10\n",
    "corp_bond_price = 3*(1-np.exp(-1.3))/13 + np.exp(-1.3)\n",
    "print(corp_bond_price)"
   ]
  },
  {
   "cell_type": "code",
   "execution_count": null,
   "metadata": {},
   "outputs": [],
   "source": []
  }
 ],
 "metadata": {
  "anaconda-cloud": {},
  "kernelspec": {
   "display_name": "Python 3",
   "language": "python",
   "name": "python3"
  },
  "language_info": {
   "codemirror_mode": {
    "name": "ipython",
    "version": 3
   },
   "file_extension": ".py",
   "mimetype": "text/x-python",
   "name": "python",
   "nbconvert_exporter": "python",
   "pygments_lexer": "ipython3",
   "version": "3.6.4"
  }
 },
 "nbformat": 4,
 "nbformat_minor": 1
}
